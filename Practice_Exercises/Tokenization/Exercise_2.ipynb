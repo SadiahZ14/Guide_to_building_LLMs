{
 "cells": [
  {
   "cell_type": "markdown",
   "metadata": {},
   "source": [
    "# Exercise 2: Create a word-level tokenizer with different splitting rules"
   ]
  },
  {
   "cell_type": "markdown",
   "metadata": {},
   "source": [
    "### Advantages of Word-Level Tokenization:\n",
    "1. Preserves word-level semantic meaning.\n",
    "2. Shorter sequences compared to character-level tokenization."
   ]
  },
  {
   "cell_type": "markdown",
   "metadata": {},
   "source": [
    "### Disadvantages of Word-Level Tokenization:\n",
    "1. Larger vocabulary size - need to represent many unique words.\n",
    "2. Different splitting rules can significantly affect tokenization results."
   ]
  },
  {
   "cell_type": "markdown",
   "metadata": {},
   "source": [
    "## Implementation"
   ]
  },
  {
   "cell_type": "markdown",
   "metadata": {},
   "source": [
    "### Step 1: Load the text from the file"
   ]
  },
  {
   "cell_type": "code",
   "execution_count": 3,
   "metadata": {},
   "outputs": [
    {
     "name": "stdout",
     "output_type": "stream",
     "text": [
      "Total number of characters in the text:  20479\n",
      "I HAD always thought Jack Gisburn rather a cheap genius--though a good fellow enough--so it was no great surprise to me to hear that, in the height of his glory, he had dropped his painting, married a\n"
     ]
    }
   ],
   "source": [
    "# Load the text\n",
    "with open(\n",
    "    \"/Users/sadiahzahoor/Desktop/AI Research/LLMs /LLM's from Scratch/the-verdict.txt\",\n",
    "    \"r\",\n",
    ") as file:\n",
    "    text = file.read()\n",
    "\n",
    "print(\"Total number of characters in the text: \", len(text))\n",
    "print(text[:200])"
   ]
  },
  {
   "cell_type": "markdown",
   "metadata": {},
   "source": [
    "### Step 2: Define some splitting rules, various regex patterns"
   ]
  },
  {
   "cell_type": "markdown",
   "metadata": {},
   "source": [
    "#### Regex Patterns for Splitting Rules\n",
    "1. None (Whitespace)\n",
    "- This is not a regex pattern but a placeholder.\n",
    "- Likely used to indicate that whitespace should be ignored or not tokenized.\n",
    "\n",
    "---\n",
    "\n",
    "2. r'\\b[a-zA-Z]+\\b' (Word Only)\n",
    "- Matches words containing only *alphabetic characters* (a-z, A-Z).\n",
    "- \\b → Ensures the word is *bounded* (i.e., it starts and ends at a word boundary).\n",
    "- [a-zA-Z]+ → Matches *one or more* (+) alphabetic characters.\n",
    "- *Example Matches*:\n",
    "  - ✅ \"hello\"\n",
    "  - ✅ \"Test\"\n",
    "  - ✅ \"World\"\n",
    "- *Does Not Match*:\n",
    "  - ❌ \"123\" (no letters)\n",
    "  - ❌ \"hello123\" (contains numbers)\n",
    "  - ❌ \"email@domain.com\" (contains special characters)\n",
    "\n",
    "---\n",
    "\n",
    "3. r'\\b[a-zA-Z0-9]+\\b' (Word or Number)\n",
    "- Similar to the previous pattern but allows *numbers*.\n",
    "- [a-zA-Z0-9]+ → Matches *one or more* letters (a-z, A-Z) or digits (`0-9`).\n",
    "- *Example Matches*:\n",
    "  - ✅ \"hello\"\n",
    "  - ✅ \"test123\"\n",
    "  - ✅ \"2024\"\n",
    "- *Does Not Match*:\n",
    "  - ❌ \"hello-123\" (contains a hyphen)\n",
    "  - ❌ \"email@domain.com\" (contains special characters)\n",
    "\n",
    "---\n",
    "\n",
    "4. r'\\b[a-zA-Z0-9]+(?:-[a-zA-Z]+)*+\\b' (Words with Hyphens)\n",
    "- Allows *hyphenated words*.\n",
    "- \\b → Ensures word boundary.\n",
    "- [a-zA-Z0-9]+ → Matches *a word with letters or numbers*.\n",
    "- (?:-[a-zA-Z]+)*+ → Allows *hyphenated parts* (-word) *zero or more times* (*+).\n",
    "- *Example Matches*:\n",
    "  - ✅ \"high-quality\"\n",
    "  - ✅ \"multi-purpose\"\n",
    "  - ✅ \"user-friendly\"\n",
    "- *Does Not Match*:\n",
    "  - ❌ \"hello-\" (trailing hyphen)\n",
    "  - ❌ \"-hello\" (leading hyphen)\n",
    "  - ❌ \"123-456\" (numbers after hyphen not allowed)\n",
    "\n",
    "---\n",
    "\n",
    "5. r'\\b[a-zA-Z0-9]+\\b|[.,!?;;:]' (Word or Punctuation as Separate Tokens)\n",
    "- Matches *either*:\n",
    "  - Words (\\b[a-zA-Z0-9]+\\b)\n",
    "  - OR punctuation characters ([.,!?;;:])\n",
    "- *Example Matches*:\n",
    "  - ✅ \"hello\"\n",
    "  - ✅ \"world\"\n",
    "  - ✅ \"123\"\n",
    "  - ✅ \"!\", \".\", \";\"\n",
    "- *Does Not Match*:\n",
    "  - ❌ \"email@domain.com\" (contains @)\n",
    "  - ❌ \"hello-world\" (hyphen not included in this pattern)\n",
    "\n",
    "---\n",
    "\n",
    "6. r'\\b[a-zA-Z]{2,}|[a-zA-Z]' (Subword-Like: At Least 2 Letters)\n",
    "- Matches *words of at least 2 letters*, but also allows *single-letter words*.\n",
    "- \\b[a-zA-Z]{2,} → Matches words with *at least two* ({2,}) letters.\n",
    "- |[a-zA-Z] → If a word *does not** have at least 2 letters, match a *single letter* instead.\n",
    "- *Example Matches*:\n",
    "  - ✅ \"hello\"\n",
    "  - ✅ \"AI\"\n",
    "  - ✅ \"I\"\n",
    "  - ✅ \"A\"\n",
    "- *Does Not Match*:\n",
    "  - ❌ \"123\" (numbers not included)\n",
    "  - ❌ \"@#\" (no letters)\n",
    "\n",
    "---\n",
    "\n",
    "Summary\n",
    "| Pattern | Description | Example Matches | Does Not Match |\n",
    "|---------|------------|----------------|---------------|\n",
    "| None | Placeholder for whitespace | \" \" | N/A |\n",
    "| \\b[a-zA-Z]+\\b | Words only (letters) | \"hello\", \"World\" | \"123\", \"hello123\" |\n",
    "| \\b[a-zA-Z0-9]+\\b | Words and numbers | \"test123\", \"42\" | \"hello-123\", \"email@domain.com\" |\n",
    "| \\b[a-zA-Z0-9]+(?:-[a-zA-Z]+)*+\\b | Words with hyphens | \"high-quality\", \"multi-purpose\" | \"123-456\", \"-hello\" |\n",
    "| \\b[a-zA-Z0-9]+\\b|[.,!?;;:] | Words and punctuation as separate tokens | \"hello\", \"!\", \";\" | \"email@domain.com\" |\n",
    "| \\b[a-zA-Z]{2,}|[a-zA-Z] | Words with 2+ letters, or single letters if needed | \"hello\", \"I\", \"AI\" | \"123\", \"@#\" |"
   ]
  },
  {
   "cell_type": "code",
   "execution_count": 4,
   "metadata": {},
   "outputs": [],
   "source": [
    "# Define the splitting rules (regex patterns)\n",
    "patterns = [\n",
    "    None, # Whitespace\n",
    "    r'\\b[a-zA-Z]+\\b', # Word only\n",
    "    r'\\b[a-zA-Z0-9]+\\b', # Word or number\n",
    "    r'\\b[a-zA-Z0-9]+(?:-[a-zA-Z]+)*+\\b', # Words with hyphens\n",
    "    r'\\b[a-zA-Z0-9]+\\b|[.,!?;;:]', # Word or punctuation as separate tokens\n",
    "    r'\\b[a-zA-Z]{2,}|[a-zA-Z]', # Subword-like: least 2 letters\n",
    "]"
   ]
  },
  {
   "cell_type": "markdown",
   "metadata": {},
   "source": []
  }
 ],
 "metadata": {
  "kernelspec": {
   "display_name": "ExploreLM",
   "language": "python",
   "name": "python3"
  },
  "language_info": {
   "codemirror_mode": {
    "name": "ipython",
    "version": 3
   },
   "file_extension": ".py",
   "mimetype": "text/x-python",
   "name": "python",
   "nbconvert_exporter": "python",
   "pygments_lexer": "ipython3",
   "version": "3.12.1"
  }
 },
 "nbformat": 4,
 "nbformat_minor": 2
}
